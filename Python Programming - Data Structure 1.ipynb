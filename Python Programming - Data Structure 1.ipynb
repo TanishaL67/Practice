{
 "cells": [
  {
   "cell_type": "markdown",
   "id": "89b85c63",
   "metadata": {},
   "source": [
    "# Lists\n",
    "\n"
   ]
  },
  {
   "cell_type": "code",
   "execution_count": 1,
   "id": "adb3a97e",
   "metadata": {},
   "outputs": [],
   "source": [
    "list1 = [1, 2, 43, 5, 44]"
   ]
  },
  {
   "cell_type": "code",
   "execution_count": 2,
   "id": "41126605",
   "metadata": {},
   "outputs": [
    {
     "data": {
      "text/plain": [
       "[5, 44]"
      ]
     },
     "execution_count": 2,
     "metadata": {},
     "output_type": "execute_result"
    }
   ],
   "source": [
    "# accessing list items - 3 to end\n",
    "list1[3:]"
   ]
  },
  {
   "cell_type": "code",
   "execution_count": 4,
   "id": "13f4e490",
   "metadata": {},
   "outputs": [
    {
     "data": {
      "text/plain": [
       "[1, 43, 44]"
      ]
     },
     "execution_count": 4,
     "metadata": {},
     "output_type": "execute_result"
    }
   ],
   "source": [
    "#using three values the start, the end and the step size \n",
    "#the below code prints the list starting from 0 to 6 and printing every second item.\n",
    "list1[0:6:2]"
   ]
  },
  {
   "cell_type": "code",
   "execution_count": 5,
   "id": "e0c535d0",
   "metadata": {},
   "outputs": [],
   "source": [
    "#making list of items from 1 to 100 \n",
    "myList = list(range(100))"
   ]
  },
  {
   "cell_type": "code",
   "execution_count": 6,
   "id": "080414df",
   "metadata": {},
   "outputs": [
    {
     "data": {
      "text/plain": [
       "[0, 9, 18, 27, 36, 45, 54, 63, 72, 81, 90, 99]"
      ]
     },
     "execution_count": 6,
     "metadata": {},
     "output_type": "execute_result"
    }
   ],
   "source": [
    "myList[::9]"
   ]
  },
  {
   "cell_type": "code",
   "execution_count": 8,
   "id": "cb323adb",
   "metadata": {},
   "outputs": [
    {
     "data": {
      "text/plain": [
       "[99, 90, 81, 72, 63, 54, 45, 36, 27, 18, 9, 1]"
      ]
     },
     "execution_count": 8,
     "metadata": {},
     "output_type": "execute_result"
    }
   ],
   "source": [
    "#negative index means stepping backward \n",
    "myList[:: -9]"
   ]
  },
  {
   "cell_type": "code",
   "execution_count": 7,
   "id": "41a06144",
   "metadata": {},
   "outputs": [
    {
     "name": "stdout",
     "output_type": "stream",
     "text": [
      "[0, 1, 2, 'a new value', 3, 4, 5, 6, 7, 8, 9, 10, 11, 12, 13, 14, 15, 16, 17, 18, 19, 20, 21, 22, 23, 24, 25, 26, 27, 28, 29, 30, 31, 32, 33, 34, 35, 36, 37, 38, 39, 40, 41, 42, 43, 44, 45, 46, 47, 48, 49, 50, 51, 52, 53, 54, 55, 56, 57, 58, 59, 60, 61, 62, 63, 64, 65, 66, 67, 68, 69, 70, 71, 72, 73, 74, 75, 76, 77, 78, 79, 80, 81, 82, 83, 84, 85, 86, 87, 88, 89, 90, 91, 92, 93, 94, 95, 96, 97, 98, 99]\n"
     ]
    }
   ],
   "source": [
    "#insert item at specified index\n",
    "myList.insert(3, 'a new value')\n",
    "print(myList)"
   ]
  },
  {
   "cell_type": "code",
   "execution_count": 9,
   "id": "115598a2",
   "metadata": {},
   "outputs": [],
   "source": [
    "#remove an item from the list \n",
    "myList.remove('a new value')"
   ]
  },
  {
   "cell_type": "code",
   "execution_count": 11,
   "id": "b4f92fa9",
   "metadata": {},
   "outputs": [
    {
     "data": {
      "text/plain": [
       "99"
      ]
     },
     "execution_count": 11,
     "metadata": {},
     "output_type": "execute_result"
    }
   ],
   "source": [
    "#remove the last item of the list and print that \n",
    "myList.pop()"
   ]
  },
  {
   "cell_type": "markdown",
   "id": "5f9959b8",
   "metadata": {},
   "source": [
    "# Sets"
   ]
  },
  {
   "cell_type": "code",
   "execution_count": 12,
   "id": "15e9ad52",
   "metadata": {},
   "outputs": [],
   "source": [
    "Sets1  = { 'a', 'b', 'c'}"
   ]
  },
  {
   "cell_type": "code",
   "execution_count": 14,
   "id": "a44b74cc",
   "metadata": {},
   "outputs": [
    {
     "data": {
      "text/plain": [
       "['b', 'c', 'a']"
      ]
     },
     "execution_count": 14,
     "metadata": {},
     "output_type": "execute_result"
    }
   ],
   "source": [
    "#sets only store unique values so it can be used to deduplicate the list. This also shows that order doesnt matter in sets \n",
    "\n",
    "list1 = ['a', 'b', 'b', 'c', 'c']\n",
    "list1 = list(set(list1))\n",
    "list1"
   ]
  },
  {
   "cell_type": "code",
   "execution_count": 15,
   "id": "8263aa09",
   "metadata": {},
   "outputs": [
    {
     "data": {
      "text/plain": [
       "{'a', 'b', 'c', 'd'}"
      ]
     },
     "execution_count": 15,
     "metadata": {},
     "output_type": "execute_result"
    }
   ],
   "source": [
    "Sets1.add('d')\n",
    "Sets1"
   ]
  },
  {
   "cell_type": "code",
   "execution_count": 16,
   "id": "37facd1b",
   "metadata": {},
   "outputs": [],
   "source": [
    "Sets1.discard('c')"
   ]
  },
  {
   "cell_type": "code",
   "execution_count": 17,
   "id": "6324509c",
   "metadata": {},
   "outputs": [
    {
     "data": {
      "text/plain": [
       "{'a', 'b', 'd'}"
      ]
     },
     "execution_count": 17,
     "metadata": {},
     "output_type": "execute_result"
    }
   ],
   "source": [
    "Sets1"
   ]
  },
  {
   "cell_type": "markdown",
   "id": "a7cbe546",
   "metadata": {},
   "source": [
    "# Tuples"
   ]
  },
  {
   "cell_type": "code",
   "execution_count": 18,
   "id": "188ab375",
   "metadata": {},
   "outputs": [
    {
     "data": {
      "text/plain": [
       "('a', 'b', 'c')"
      ]
     },
     "execution_count": 18,
     "metadata": {},
     "output_type": "execute_result"
    }
   ],
   "source": [
    "#declaring a tuple\n",
    "Tuple = ('a', 'b', 'c')\n",
    "Tuple"
   ]
  },
  {
   "cell_type": "code",
   "execution_count": 19,
   "id": "d10ef3f5",
   "metadata": {},
   "outputs": [
    {
     "data": {
      "text/plain": [
       "tuple"
      ]
     },
     "execution_count": 19,
     "metadata": {},
     "output_type": "execute_result"
    }
   ],
   "source": [
    "#when functions returns values separated by column it is in tuple format \n",
    "def returnsMultipleValues():\n",
    "    return 1,2,3\n",
    "\n",
    "type(returnsMultipleValues())"
   ]
  },
  {
   "cell_type": "code",
   "execution_count": 20,
   "id": "591f0686",
   "metadata": {},
   "outputs": [
    {
     "ename": "NameError",
     "evalue": "name 'myTuple' is not defined",
     "output_type": "error",
     "traceback": [
      "\u001b[0;31m---------------------------------------------------------------------------\u001b[0m",
      "\u001b[0;31mNameError\u001b[0m                                 Traceback (most recent call last)",
      "Cell \u001b[0;32mIn[20], line 1\u001b[0m\n\u001b[0;32m----> 1\u001b[0m \u001b[43mmyTuple\u001b[49m[\u001b[38;5;241m0\u001b[39m] \u001b[38;5;241m=\u001b[39m \u001b[38;5;124m'\u001b[39m\u001b[38;5;124md\u001b[39m\u001b[38;5;124m'\u001b[39m\n",
      "\u001b[0;31mNameError\u001b[0m: name 'myTuple' is not defined"
     ]
    }
   ],
   "source": [
    "#tupples cannot be changed\n",
    "myTuple[0] = 'd'"
   ]
  },
  {
   "cell_type": "markdown",
   "id": "89d49908",
   "metadata": {},
   "source": [
    "# List Comprehension"
   ]
  },
  {
   "cell_type": "code",
   "execution_count": 21,
   "id": "940b81bc",
   "metadata": {},
   "outputs": [
    {
     "data": {
      "text/plain": [
       "[2, 4, 6, 8, 10]"
      ]
     },
     "execution_count": 21,
     "metadata": {},
     "output_type": "execute_result"
    }
   ],
   "source": [
    "myList = [1,2,3,4,5]\n",
    "[2*item for item in myList]"
   ]
  },
  {
   "cell_type": "code",
   "execution_count": 27,
   "id": "56b9ad6f",
   "metadata": {},
   "outputs": [
    {
     "data": {
      "text/plain": [
       "['My name is Ryan Mitchell', ' I live in Boston']"
      ]
     },
     "execution_count": 27,
     "metadata": {},
     "output_type": "execute_result"
    }
   ],
   "source": [
    "#split function splits based on the values mentioned in paranthesis and if notjhing i smentioned tis the space \n",
    "myString = 'My name is Ryan Mitchell. I live in Boston'\n",
    "myString.split('.')"
   ]
  },
  {
   "cell_type": "code",
   "execution_count": 26,
   "id": "12998455",
   "metadata": {},
   "outputs": [
    {
     "data": {
      "text/plain": [
       "[0, 10, 20, 30, 40, 50, 60, 70, 80, 90]"
      ]
     },
     "execution_count": 26,
     "metadata": {},
     "output_type": "execute_result"
    }
   ],
   "source": [
    "# using it for filtering through the list\n",
    "myList = list(range(100))\n",
    "filteredList = [item for item in myList if item % 10 == 0]\n",
    "filteredList"
   ]
  },
  {
   "cell_type": "code",
   "execution_count": 23,
   "id": "09cdfc4e",
   "metadata": {},
   "outputs": [
    {
     "data": {
      "text/plain": [
       "['my', 'name', 'is', 'ryan', 'mitchell', 'i', 'live', 'in', 'boston']"
      ]
     },
     "execution_count": 23,
     "metadata": {},
     "output_type": "execute_result"
    }
   ],
   "source": [
    "#Using it with functions (chaining functions)\n",
    "# the replace function replaces full stop with a empty spave and then lower case function will make it lower case with lower function()\n",
    "def cleanWord(word):\n",
    "    return word.replace('.', '').lower()\n",
    "\n",
    "[cleanWord(word) for word in myString.split()]"
   ]
  },
  {
   "cell_type": "code",
   "execution_count": 24,
   "id": "2e05f1b1",
   "metadata": {},
   "outputs": [
    {
     "data": {
      "text/plain": [
       "['my', 'is', 'i', 'in']"
      ]
     },
     "execution_count": 24,
     "metadata": {},
     "output_type": "execute_result"
    }
   ],
   "source": [
    "#with if statement \n",
    "[cleanWord(word) for word in myString.split() if len(cleanWord(word)) < 3]"
   ]
  },
  {
   "cell_type": "code",
   "execution_count": 25,
   "id": "07899af6",
   "metadata": {},
   "outputs": [
    {
     "data": {
      "text/plain": [
       "[['my', 'name', 'is', 'ryan', 'mitchell'], ['i', 'live', 'in', 'boston']]"
      ]
     },
     "execution_count": 25,
     "metadata": {},
     "output_type": "execute_result"
    }
   ],
   "source": [
    "#NESTED COMPREHENSION\n",
    "[[cleanWord(word) for word in sentence.split()] for sentence in myString.split('.')]"
   ]
  },
  {
   "cell_type": "markdown",
   "id": "43401783",
   "metadata": {},
   "source": [
    "# Dictionary Comprehensions"
   ]
  },
  {
   "cell_type": "code",
   "execution_count": 29,
   "id": "cce1f84c",
   "metadata": {},
   "outputs": [
    {
     "data": {
      "text/plain": [
       "{'a': 'anaconda', 'f': 'ferrari', 'm': 'mouse', 'd': 'dog'}"
      ]
     },
     "execution_count": 29,
     "metadata": {},
     "output_type": "execute_result"
    }
   ],
   "source": [
    "#Dictionary comprehensions are used to generate dictionaries from iterable structures.\n",
    "animalss = [('a', 'anaconda'), ('f', 'ferrari'), ('m', 'mouse'), ('d', 'dog')]\n",
    "animalsss = {i[0]: i[1] for i in animalss}\n",
    "animalsss"
   ]
  },
  {
   "cell_type": "code",
   "execution_count": 30,
   "id": "a2c3f638",
   "metadata": {},
   "outputs": [
    {
     "data": {
      "text/plain": [
       "{'a': 'anaconda', 'f': 'ferrari', 'm': 'mouse', 'd': 'dog'}"
      ]
     },
     "execution_count": 30,
     "metadata": {},
     "output_type": "execute_result"
    }
   ],
   "source": [
    "#taking each pair an dchanging it to the key value pairs of a dictionary \n",
    "animalsss = {key: value for key, value in animalss}\n",
    "animalsss"
   ]
  },
  {
   "cell_type": "code",
   "execution_count": 31,
   "id": "a5e7d2de",
   "metadata": {},
   "outputs": [
    {
     "data": {
      "text/plain": [
       "[{'letter': 'a', 'name': 'anaconda'},\n",
       " {'letter': 'f', 'name': 'ferrari'},\n",
       " {'letter': 'm', 'name': 'mouse'},\n",
       " {'letter': 'd', 'name': 'dog'}]"
      ]
     },
     "execution_count": 31,
     "metadata": {},
     "output_type": "execute_result"
    }
   ],
   "source": [
    "#makin a list of the dictionaries \n",
    "[{'letter': key, 'name': value} for key, value in animalsss.items()]"
   ]
  },
  {
   "cell_type": "code",
   "execution_count": null,
   "id": "5ab56c5b",
   "metadata": {},
   "outputs": [],
   "source": []
  }
 ],
 "metadata": {
  "kernelspec": {
   "display_name": "Python 3 (ipykernel)",
   "language": "python",
   "name": "python3"
  },
  "language_info": {
   "codemirror_mode": {
    "name": "ipython",
    "version": 3
   },
   "file_extension": ".py",
   "mimetype": "text/x-python",
   "name": "python",
   "nbconvert_exporter": "python",
   "pygments_lexer": "ipython3",
   "version": "3.10.12"
  }
 },
 "nbformat": 4,
 "nbformat_minor": 5
}
